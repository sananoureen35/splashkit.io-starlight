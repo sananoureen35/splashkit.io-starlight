{
 "cells": [
  {
   "cell_type": "code",
   "execution_count": null,
   "id": "ceb34757",
   "metadata": {},
   "outputs": [],
   "source": [
    "def is_number(s):\n",
    "    try:\n",
    "        float(s)\n",
    "        return True\n",
    "    except ValueError:\n",
    "        return False\n",
    "\n",
    "input_str = input(\"Enter the value: \")\n",
    "\n",
    "if is_number(input_str):\n",
    "    print(f\"{input_str} is a number.\")\n",
    "else:\n",
    "    print(f\"{input_str} is not a number.\")"
   ]
  }
 ],
 "metadata": {
  "kernelspec": {
   "display_name": "Python 3 (ipykernel)",
   "language": "python",
   "name": "python3"
  },
  "language_info": {
   "codemirror_mode": {
    "name": "ipython",
    "version": 3
   },
   "file_extension": ".py",
   "mimetype": "text/x-python",
   "name": "python",
   "nbconvert_exporter": "python",
   "pygments_lexer": "ipython3",
   "version": "3.12.3"
  }
 },
 "nbformat": 4,
 "nbformat_minor": 5
}
